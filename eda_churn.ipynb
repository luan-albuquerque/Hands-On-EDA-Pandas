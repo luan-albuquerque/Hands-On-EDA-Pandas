{
 "cells": [
  {
   "cell_type": "code",
   "execution_count": 1,
   "id": "7ac90082",
   "metadata": {},
   "outputs": [],
   "source": [
    "import pandas as pd"
   ]
  },
  {
   "cell_type": "markdown",
   "id": "a7f4d12a",
   "metadata": {},
   "source": [
    "# Criar DataFrames com Base nos Datasets"
   ]
  },
  {
   "cell_type": "code",
   "execution_count": 5,
   "id": "f704acd4",
   "metadata": {},
   "outputs": [
    {
     "name": "stdout",
     "output_type": "stream",
     "text": [
      "      customerID  gender  SeniorCitizen Partner Dependents\n",
      "0     7590-VHVEG  Female              0     Yes         No\n",
      "1     5575-GNVDE    Male              0      No         No\n",
      "2     3668-QPYBK    Male              0      No         No\n",
      "3     7795-CFOCW    Male              0      No         No\n",
      "4     9237-HQITU  Female              0      No         No\n",
      "...          ...     ...            ...     ...        ...\n",
      "7038  6840-RESVB    Male              0     Yes        Yes\n",
      "7039  2234-XADUH  Female              0     Yes        Yes\n",
      "7040  4801-JZAZL  Female              0     Yes        Yes\n",
      "7041  8361-LTMKD    Male              1     Yes         No\n",
      "7042  3186-AJIEK    Male              0      No         No\n",
      "\n",
      "[7043 rows x 5 columns]\n"
     ]
    }
   ],
   "source": [
    "#Carregar dados do dataframe\n",
    "df_customers = pd.read_csv('./datasets/churn_customers.csv')\n",
    "print(df_customers)"
   ]
  }
 ],
 "metadata": {
  "kernelspec": {
   "display_name": "Hands-On-EDA-Pandas-iAfxYEjI",
   "language": "python",
   "name": "python3"
  },
  "language_info": {
   "codemirror_mode": {
    "name": "ipython",
    "version": 3
   },
   "file_extension": ".py",
   "mimetype": "text/x-python",
   "name": "python",
   "nbconvert_exporter": "python",
   "pygments_lexer": "ipython3",
   "version": "3.12.10"
  }
 },
 "nbformat": 4,
 "nbformat_minor": 5
}
